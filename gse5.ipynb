{
 "cells": [
  {
   "cell_type": "markdown",
   "metadata": {},
   "source": [
    "Validation of noise models for single-cell transcriptomics\n",
    "\n",
    "_Grün et al., Nature Methods, 2014_"
   ]
  },
  {
   "cell_type": "code",
   "execution_count": 1,
   "metadata": {},
   "outputs": [],
   "source": [
    "import numpy as np\n",
    "import scipy as sp\n",
    "import pandas as pd\n",
    "from scipy import stats\n",
    "\n",
    "import matplotlib.pyplot as plt\n",
    "\n",
    "from scipy.stats import norm\n",
    "from statsmodels.distributions.empirical_distribution import ECDF"
   ]
  },
  {
   "cell_type": "code",
   "execution_count": 2,
   "metadata": {},
   "outputs": [],
   "source": [
    "from negbin_val_functions import *"
   ]
  },
  {
   "cell_type": "markdown",
   "metadata": {},
   "source": [
    "read and prepare data"
   ]
  },
  {
   "cell_type": "code",
   "execution_count": 3,
   "metadata": {
    "scrolled": false
   },
   "outputs": [
    {
     "name": "stdout",
     "output_type": "stream",
     "text": [
      "(12535, 321)\n",
      "(12485, 321)\n",
      "(12485, 320)\n"
     ]
    }
   ],
   "source": [
    "data = pd.read_csv(\"/home/npapado/Documents/data/GSE54695/GSE54695_data_transcript_counts.txt\", sep = \"\\t\")\n",
    "print(data.shape)\n",
    "\n",
    "spike_rows = [i for i, col in enumerate(data[\"GENENAME\"]) if 'ERCC' in col]\n",
    "data = data.drop(spike_rows, 0)\n",
    "print(data.shape)\n",
    "\n",
    "gene_names = data[\"GENENAME\"].get_values()\n",
    "\n",
    "data = data.drop(\"GENENAME\", 1)\n",
    "print(data.shape)"
   ]
  },
  {
   "cell_type": "markdown",
   "metadata": {},
   "source": [
    "fit the different subsets separately"
   ]
  },
  {
   "cell_type": "code",
   "execution_count": 4,
   "metadata": {},
   "outputs": [],
   "source": [
    "all2i = np.array([i for i, col in enumerate(data.columns) if '2i' in col])\n",
    "allserum = np.array([i for i, col in enumerate(data.columns) if 'serum' in col])\n",
    "\n",
    "cells = np.array([i for i, s in enumerate(data.columns) if \"SC\" in s])\n",
    "controls = np.array([i for i, s in enumerate(data.columns) if \"RNA\" in s])"
   ]
  },
  {
   "cell_type": "code",
   "execution_count": 5,
   "metadata": {},
   "outputs": [],
   "source": [
    "cells2i = np.intersect1d(cells, all2i)\n",
    "cellsserum = np.intersect1d(cells, allserum)"
   ]
  },
  {
   "cell_type": "code",
   "execution_count": 6,
   "metadata": {},
   "outputs": [],
   "source": [
    "# see Quantification of transcript abundance in Grün et al. for Pou5f control\n",
    "X = np.array(data).transpose()\n",
    "keep = np.sum(X, axis=1) > 1000\n",
    "relevant = np.sum(X, axis=0) > 0\n",
    "pou5f = [i for i, col in enumerate(gene_names[relevant]) if 'Pou5f' in col][0]\n",
    "X = X[keep][:, relevant]\n",
    "sum_all = np.sum(X, axis=1)\n",
    "scalings = sum_all / np.mean(sum_all)\n",
    "\n",
    "X = (X.transpose() / scalings).transpose()\n",
    "not_differentiating = np.where(X[:, pou5f] > 10)\n",
    "X = X[:, not_differentiating]"
   ]
  },
  {
   "cell_type": "code",
   "execution_count": 7,
   "metadata": {},
   "outputs": [
    {
     "name": "stderr",
     "output_type": "stream",
     "text": [
      "/home/npapado/Documents/repos/prosst-scripts/negbin_val_functions.py:196: RuntimeWarning: divide by zero encountered in log\n",
      "  s2 = X * np.log(p)\n",
      "/home/npapado/Documents/repos/prosst-scripts/negbin_val_functions.py:196: RuntimeWarning: invalid value encountered in multiply\n",
      "  s2 = X * np.log(p)\n"
     ]
    }
   ],
   "source": [
    "X = np.array(data.iloc[:,cells2i]).transpose()\n",
    "keep = np.sum(X, axis=1) > 1000\n",
    "relevant = np.sum(X, axis=0) > 0\n",
    "X = X[keep][:, relevant]\n",
    "G = X.shape[1]\n",
    "\n",
    "# scaling and normalization by scaling\n",
    "sum_all = np.sum(X, axis=1)\n",
    "scalings = sum_all / np.mean(sum_all)\n",
    "np.savetxt(\"gse5/cells2i_scalings.txt\", scalings)\n",
    "\n",
    "X = (X.transpose() / scalings).transpose()\n",
    "\n",
    "norm_pvals, mu_res, s2_res = fit_normals(G, X)\n",
    "pois_pvals, lambda_res, pois_success = fit_poissons(G, X)\n",
    "negbin_pvals, a_res, b_res, nb_success = fit_negbins(G, X)\n",
    "\n",
    "norm_all = [norm_pvals, mu_res, s2_res]\n",
    "pois_all = [pois_pvals, lambda_res, pois_success]\n",
    "negbin_all = [negbin_pvals, a_res, b_res, nb_success]\n",
    "\n",
    "save_all(\"gse5\", \"cells2i\", norm_all, pois_all, negbin_all)"
   ]
  },
  {
   "cell_type": "code",
   "execution_count": 8,
   "metadata": {},
   "outputs": [
    {
     "name": "stderr",
     "output_type": "stream",
     "text": [
      "/home/npapado/Documents/repos/prosst-scripts/negbin_val_functions.py:196: RuntimeWarning: divide by zero encountered in log\n",
      "  s2 = X * np.log(p)\n",
      "/home/npapado/Documents/repos/prosst-scripts/negbin_val_functions.py:196: RuntimeWarning: invalid value encountered in multiply\n",
      "  s2 = X * np.log(p)\n"
     ]
    }
   ],
   "source": [
    "X = np.array(data.iloc[: ,cellsserum]).transpose()\n",
    "keep = np.sum(X, axis=1) > 1000\n",
    "relevant = np.sum(X, axis=0) > 0\n",
    "X = X[keep][:, relevant]\n",
    "G = X.shape[1]\n",
    "\n",
    "# scaling and normalization by scaling\n",
    "sum_all = np.sum(X, axis=1)\n",
    "scalings = sum_all / np.mean(sum_all)\n",
    "np.savetxt(\"gse5/serum_scalings.txt\", scalings)\n",
    "\n",
    "X = (X.transpose() / scalings).transpose()\n",
    "\n",
    "norm_pvals, mu_res, s2_res = fit_normals(G, X)\n",
    "pois_pvals, lambda_res, pois_success = fit_poissons(G, np.rint(X).astype(int))\n",
    "negbin_pvals, a_res, b_res, nb_success = fit_negbins(G, np.rint(X).astype(int))\n",
    "\n",
    "norm_all = [norm_pvals, mu_res, s2_res]\n",
    "pois_all = [pois_pvals, lambda_res, pois_success]\n",
    "negbin_all = [negbin_pvals, a_res, b_res, nb_success]\n",
    "\n",
    "save_all(\"gse5\", \"serum\", norm_all, pois_all, negbin_all)"
   ]
  },
  {
   "cell_type": "code",
   "execution_count": 9,
   "metadata": {},
   "outputs": [
    {
     "name": "stdout",
     "output_type": "stream",
     "text": [
      "0.9999999999999998 0.5516772116132427\n"
     ]
    },
    {
     "data": {
      "image/png": "[encoded data removed]",
      "text/plain": [
       "<matplotlib.figure.Figure at 0x7f8e85952c88>"
      ]
     },
     "metadata": {},
     "output_type": "display_data"
    }
   ],
   "source": [
    "# scaling factors\n",
    "fig, ax = plt.subplots()\n",
    "\n",
    "data2i = np.array(data.iloc[: ,cells2i]).transpose()\n",
    "keep2i = np.sum(data2i, axis=1) > 1000\n",
    "dataserum = np.array(data.iloc[: ,cellsserum]).transpose()\n",
    "keepserum = np.sum(dataserum, axis=1) > 1000\n",
    "\n",
    "sum1 = np.sum(data2i[keep2i], axis=1)\n",
    "sum2 = np.sum(dataserum[keepserum], axis=1)\n",
    "sum_all = np.concatenate([sum1, sum2])\n",
    "\n",
    "from scipy.stats import norm\n",
    "scalings = sum_all / np.mean(sum_all)\n",
    "mu, std = norm.fit(scalings)\n",
    "\n",
    "all_n, all_bins, all_patches = ax.hist(scalings, bins=25, normed=True, alpha=0.7, color='black', label=\"all\")\n",
    "\n",
    "# Plot the PDF.\n",
    "xmin, xmax = ax.get_xlim()\n",
    "x = np.linspace(xmin, xmax, 100)\n",
    "p = norm.pdf(x, mu, std)\n",
    "ax.plot(x, p, 'k', linewidth=2)\n",
    "print(mu, std)\n",
    "\n",
    "ax.hist(sum1/np.mean(sum1), bins=all_bins, normed=True, alpha=0.2, label=\"2i\")\n",
    "np.savetxt(\"gse5/cells2i_scalings.txt\", sum1/np.mean(sum1))\n",
    "ax.hist(sum2/np.mean(sum2), bins=all_bins, normed=True, alpha=0.2, label=\"serum\")\n",
    "np.savetxt(\"gse5/serum_scalings.txt\", sum2/np.mean(sum2))\n",
    "ax.legend()\n",
    "plt.show()"
   ]
  },
  {
   "cell_type": "code",
   "execution_count": 10,
   "metadata": {},
   "outputs": [
    {
     "name": "stdout",
     "output_type": "stream",
     "text": [
      "0.3098291187095087 2.5627505824519523\n",
      "1.9315880309188649 1.418927024258064\n"
     ]
    },
    {
     "data": {
      "text/plain": [
       "<matplotlib.legend.Legend at 0x7f8e83790518>"
      ]
     },
     "execution_count": 10,
     "metadata": {},
     "output_type": "execute_result"
    },
    {
     "data": {
      "image/png": "[encoded data removed]",
      "text/plain": [
       "<matplotlib.figure.Figure at 0x7f8e85960668>"
      ]
     },
     "metadata": {},
     "output_type": "display_data"
    }
   ],
   "source": [
    "mu_a, std_a = norm.fit(np.log(a_res[nb_success]))\n",
    "mu_b, std_b = norm.fit(np.log(b_res[nb_success]))\n",
    "\n",
    "fig, ax = plt.subplots()\n",
    "ax.hist(np.log(a_res[nb_success]), label=\"a\", bins=50, alpha=0.5, normed=True, color=\"blue\")\n",
    "ax.hist(np.log(b_res[nb_success]), label=\"b\", bins=50, alpha=0.5, normed=True, color=\"green\")\n",
    "\n",
    "# Plot the PDF.\n",
    "xmin, xmax = ax.get_xlim()\n",
    "x = np.linspace(xmin, xmax, 100)\n",
    "pa = norm.pdf(x, mu_a, std_a)\n",
    "pb = norm.pdf(x, mu_b, std_b)\n",
    "ax.plot(x, pa, 'k', linewidth=2, label=\"a\", color=\"blue\")\n",
    "ax.plot(x, pb, 'k', linewidth=2, label=\"b\", color=\"green\")\n",
    "print(np.exp(mu_a), np.exp(std_a))\n",
    "print(np.exp(mu_b), np.exp(std_b))\n",
    "ax.legend(labels=[\"alpha fit\", \"beta fit\", \"alpha hist\", \"beta hist\"])"
   ]
  },
  {
   "cell_type": "code",
   "execution_count": 11,
   "metadata": {},
   "outputs": [],
   "source": [
    "data2i = np.array(data.iloc[: ,cells2i]).transpose()\n",
    "keep2i = np.sum(data2i, axis=1) > 1000\n",
    "dataserum = np.array(data.iloc[: ,cellsserum]).transpose()\n",
    "keepserum = np.sum(dataserum, axis=1) > 1000\n",
    "\n",
    "X = data2i[keep2i]\n",
    "relevant = np.sum(X, axis=0) > 0\n",
    "X = X[:, relevant]\n",
    "gene_means = np.mean(X, axis=0)\n",
    "np.savetxt(\"gse5/cells2i_genes.txt\", gene_means)\n",
    "\n",
    "X = dataserum[keepserum]\n",
    "relevant = np.sum(X, axis=0) > 0\n",
    "X = X[:, relevant]\n",
    "gene_means = np.mean(X, axis=0)\n",
    "np.savetxt(\"gse5/serum_genes.txt\", gene_means)"
   ]
  }
 ],
 "metadata": {
  "anaconda-cloud": {},
  "kernelspec": {
   "display_name": "Python 3",
   "language": "python",
   "name": "python3"
  },
  "language_info": {
   "codemirror_mode": {
    "name": "ipython",
    "version": 3
   },
   "file_extension": ".py",
   "mimetype": "text/x-python",
   "name": "python",
   "nbconvert_exporter": "python",
   "pygments_lexer": "ipython3",
   "version": "3.6.4"
  }
 },
 "nbformat": 4,
 "nbformat_minor": 1
}
