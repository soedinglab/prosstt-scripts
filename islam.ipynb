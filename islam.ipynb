{
 "cells": [
  {
   "cell_type": "markdown",
   "metadata": {},
   "source": [
    "Quantitative single-cell RNA-seq with unique molecular identifiers\n",
    "\n",
    "_Islam et al., Nature Methods, 2015_"
   ]
  },
  {
   "cell_type": "code",
   "execution_count": 1,
   "metadata": {},
   "outputs": [],
   "source": [
    "import numpy as np\n",
    "import scipy as sp\n",
    "import sys\n",
    "import pandas as pd\n",
    "import matplotlib.pyplot as plt\n",
    "from scipy.stats import norm"
   ]
  },
  {
   "cell_type": "code",
   "execution_count": 2,
   "metadata": {},
   "outputs": [],
   "source": [
    "from negbin_val_functions import *"
   ]
  },
  {
   "cell_type": "code",
   "execution_count": 3,
   "metadata": {},
   "outputs": [
    {
     "name": "stdout",
     "output_type": "stream",
     "text": [
      "(25914, 103)\n",
      "(25797, 103)\n",
      "96\n",
      "1652\n",
      "(24145, 103)\n",
      "(24145, 96)\n",
      "(50, 24145)\n"
     ]
    },
    {
     "name": "stderr",
     "output_type": "stream",
     "text": [
      "/home/npapado/miniconda3/envs/py36/lib/python3.6/site-packages/IPython/core/interactiveshell.py:2728: DtypeWarning: Columns (1,3) have mixed types. Specify dtype option on import or set low_memory=False.\n",
      "  interactivity=interactivity, compiler=compiler, result=result)\n"
     ]
    }
   ],
   "source": [
    "# read data\n",
    "data = pd.read_csv(\"/home/npapado/Documents/data/islam/processed_GSE46980_CombinedMoleculeCounts.tab\",\n",
    "                   sep = \"\\t\", index_col=False)\n",
    "print(data.shape)\n",
    "\n",
    "# remove noisy genes\n",
    "noisy = [\"Sept1\", \"1700001L05Rik\", \"1700019D03Rik\", \"1700097N02Rik\", \"2610037D02Rik\",\n",
    "  \"Aass\", \"Acta2\", \"Actg1\", \"Ap1s3\", \"Apoe\", \"Bcor\", \"Bms1\", \"Btg2\", \"C330013F16Rik\", \"Car2\",\n",
    "  \"Ccdc48\", \"Ccnd2\", \"Cd68\", \"Cdkn1c\", \"Chchd10\", \"Cldn4\", \"Ctgf\", \"Cth\", \"Cyr61\", \"D16Ertd472e\",\n",
    "  \"D7Ertd143e\", \"Ddit4\", \"Ddr1\", \"Dnmt3l\", \"Dppa5a\", \"Dqx1\", \"Dusp1\", \"Egr1\", \"Elf3\", \"Enpp2\",\n",
    "  \"Epb4.9\", \"Ephx2\", \"F2r\", \"Fam40a\", \"Fbxo15\", \"Fst\", \"Ftl1\", \"Gapdh\", \"Gng3\", \"Gpc3\", \"Gstt2\",\n",
    "  \"Hbegf\", \"Hes1\", \"Hes6\", \"Hist1h2ap_loc1\", \"Hist1h2ap_loc2\", \"Hsd17b14\", \"Id2\", \"Id3\", \"Ifitm1\",\n",
    "  \"Igf2\", \"Igfbp3\", \"Jun\", \"Junb\", \"Kif1a\", \"Klf6\", \"Krt18\", \"Krt19\", \"Krt8\", \"Lactb\", \"Lefty1\",\n",
    "  \"Lefty2\", \"Malat1\", \"Mgp\", \"Mmaa\", \"Mreg\", \"Mrpl9\", \"Mt1\", \"Mt2\", \"Mycn\", \"Mylpf\", \"Nupr1\",\n",
    "  \"Odf2l\", \"Ooep\", \"Paip2b\", \"Pbx1\", \"Pim2\", \"Plaur\", \"Polr2e\", \"Psme2\", \"Rab21\", \"Rab31\", \"Rhox5\",\n",
    "  \"Rnf168\", \"Rnf26\", \"Rpl10l\", \"Rpl39l\", \"Rps4x\", \"Sc4mol\", \"Sema6a\", \"Sfn\", \"Smap2\", \"Snhg3\",\n",
    "  \"Snora33\", \"Snord35a\", \"Spp1\", \"Sprr2b\", \"Tagln\", \"Tagln2\", \"Tcl1\", \"Tdh\", \"Tmem161a\", \"Tmsb4x\",\n",
    "  \"Tpbg\", \"Tpm1\", \"Trh\", \"Ubc\", \"Upp1\", \"Zfp296\", \"Zfp365\", \"Zfp42\", \"Zfp931\", \"Zmynd8\"]\n",
    "noisy_rows = [i for i, row in enumerate(data[\"Feature\"]) if row in noisy]\n",
    "data = data.drop(noisy_rows, axis=0)\n",
    "print(data.shape)\n",
    "\n",
    "# remove spike-ins\n",
    "spike_rows = [i for i, row in enumerate(data[\"Feature\"]) if 'RNA_SPIKE' in row]\n",
    "print(len(spike_rows))\n",
    "moar = [i for i, row in enumerate(data[\"Feature\"]) if 'r_' in row]\n",
    "spike_rows.extend(moar)\n",
    "print(len(spike_rows))\n",
    "\n",
    "data = data.drop(spike_rows, axis=0)\n",
    "print(data.shape)\n",
    "\n",
    "# now drop unused columns\n",
    "data = data.drop([\"Feature\", \"Chr\", \"Pos\", \"Strand\", \"TrLen\", \"MinExonHits\", \"ExonHits\"], axis=1)\n",
    "print(data.shape)\n",
    "\n",
    "X = np.array(data)\n",
    "# we want the data in cells x genes format\n",
    "X = X.T\n",
    "\n",
    "# remove the cells that weren't used according to an expression filter\n",
    "xsum = np.sum(X>0, axis=1)\n",
    "keep = np.array([i for i, s in enumerate(xsum) if s > 5000])\n",
    "col_keep = list(data.columns[keep])\n",
    "col_keep.extend([\"G02\"])\n",
    "\n",
    "# remove cells that were manually removed as possible doublets/low quality\n",
    "# according to imaging data\n",
    "pictures_remove = [\"C03\", \"H03\", \"F11\", \"C02\", \"B11\"]\n",
    "for r in pictures_remove:\n",
    "    col_keep.remove(r)\n",
    "\n",
    "# keep the correct things\n",
    "newdata = data[col_keep]\n",
    "X = np.array(newdata)\n",
    "X = X.T\n",
    "# print(col_keep)\n",
    "\n",
    "print(X.shape)"
   ]
  },
  {
   "cell_type": "code",
   "execution_count": 4,
   "metadata": {},
   "outputs": [
    {
     "name": "stdout",
     "output_type": "stream",
     "text": [
      "(50, 13897)\n"
     ]
    },
    {
     "name": "stderr",
     "output_type": "stream",
     "text": [
      "/home/npapado/Documents/repos/prosstt-scripts/negbin_val_functions.py:268: RuntimeWarning: divide by zero encountered in log\n",
      "  s3 = r * np.log(1 - p)\n",
      "/home/npapado/Documents/repos/prosstt-scripts/negbin_val_functions.py:256: RuntimeWarning: divide by zero encountered in true_divide\n",
      "  dp = r / p - X / (1 - p)\n",
      "/home/npapado/Documents/repos/prosstt-scripts/negbin_val_functions.py:256: RuntimeWarning: invalid value encountered in true_divide\n",
      "  dp = r / p - X / (1 - p)\n"
     ]
    }
   ],
   "source": [
    "# initial conditions and fits\n",
    "relevant = np.sum(X, axis=0) > 0\n",
    "X = X[:, relevant]\n",
    "G = X.shape[1]\n",
    "print(X.shape)\n",
    "\n",
    "# scaling and normalization by scaling\n",
    "sum_all = np.sum(X, axis=1)\n",
    "scalings = sum_all / np.mean(sum_all)\n",
    "np.savetxt(\"islam/islam_scalings.txt\", scalings)\n",
    "\n",
    "X = (X.transpose() / scalings).transpose()\n",
    "\n",
    "norm_pvals, mu_res, s2_res = fit_normals(G, X, scalings)\n",
    "pois_pvals, lambda_res, pois_success = fit_poissons(G, X, scalings)\n",
    "negbin_pvals, p_res, r_res, nb_success = fit_negbins_pr(G, X, scalings)\n",
    "\n",
    "norm_all = [norm_pvals, mu_res, s2_res]\n",
    "pois_all = [pois_pvals, lambda_res, pois_success]\n",
    "negbin_all = [negbin_pvals, p_res, r_res, nb_success]\n",
    "\n",
    "save_all(\"islam\", \"islam\", norm_all, pois_all, negbin_all)"
   ]
  },
  {
   "cell_type": "code",
   "execution_count": 5,
   "metadata": {},
   "outputs": [
    {
     "name": "stderr",
     "output_type": "stream",
     "text": [
      "/home/npapado/miniconda3/envs/py36/lib/python3.6/site-packages/matplotlib/axes/_axes.py:6448: UserWarning: The 'normed' kwarg is deprecated, and has been replaced by the 'density' kwarg.\n",
      "  warnings.warn(\"The 'normed' kwarg is deprecated, and has been \"\n"
     ]
    },
    {
     "data": {
      "image/png": "[encoded data removed]",
      "text/plain": [
       "<Figure size 432x288 with 1 Axes>"
      ]
     },
     "metadata": {},
     "output_type": "display_data"
    },
    {
     "name": "stdout",
     "output_type": "stream",
     "text": [
      "0.9999999999999999 0.2928902947066053\n"
     ]
    }
   ],
   "source": [
    "# scaling factors\n",
    "fig, ax = plt.subplots()\n",
    "sum_all = np.sum(X, axis=1)\n",
    "\n",
    "# scalings = sum_all / np.mean(sum_all)\n",
    "mu, std = norm.fit(scalings)\n",
    "\n",
    "ax.hist(scalings, bins=25, normed=True, alpha=0.7, color='black', label=\"all\")\n",
    "# np.savetxt(\"islam/islam_scalings.txt\", scalings)\n",
    "\n",
    "# Plot the PDF.\n",
    "xmin, xmax = ax.get_xlim()\n",
    "x = np.linspace(xmin, xmax, 100)\n",
    "p = norm.pdf(x, mu, std)\n",
    "ax.plot(x, p, 'k', linewidth=2)\n",
    "plt.show()\n",
    "print(mu, std)"
   ]
  },
  {
   "cell_type": "code",
   "execution_count": 6,
   "metadata": {},
   "outputs": [],
   "source": [
    "gene_means = np.mean(X, axis=0)\n",
    "np.savetxt(\"islam/islam_genes.txt\", gene_means)"
   ]
  }
 ],
 "metadata": {
  "anaconda-cloud": {},
  "kernelspec": {
   "display_name": "Python 3",
   "language": "python",
   "name": "python3"
  },
  "language_info": {
   "codemirror_mode": {
    "name": "ipython",
    "version": 3
   },
   "file_extension": ".py",
   "mimetype": "text/x-python",
   "name": "python",
   "nbconvert_exporter": "python",
   "pygments_lexer": "ipython3",
   "version": "3.6.4"
  }
 },
 "nbformat": 4,
 "nbformat_minor": 1
}
