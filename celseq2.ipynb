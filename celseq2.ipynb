{
 "cells": [
  {
   "cell_type": "markdown",
   "metadata": {},
   "source": [
    "CEL-Seq2: sensitive highly-multiplexed single-cell RNA-Seq.\n",
    "\n",
    "*Hashimshony et al. Genome biology, 2016*"
   ]
  },
  {
   "cell_type": "code",
   "execution_count": 1,
   "metadata": {},
   "outputs": [],
   "source": [
    "import numpy as np\n",
    "import scipy as sp\n",
    "import pandas as pd\n",
    "from scipy import stats\n",
    "\n",
    "import matplotlib.pyplot as plt\n",
    "\n",
    "from scipy.stats import norm\n",
    "from statsmodels.distributions.empirical_distribution import ECDF\n",
    "\n",
    "from prosstt import count_model as cm"
   ]
  },
  {
   "cell_type": "code",
   "execution_count": 2,
   "metadata": {},
   "outputs": [],
   "source": [
    "%load_ext autoreload\n",
    "%autoreload 2\n",
    "from negbin_val_functions import *"
   ]
  },
  {
   "cell_type": "markdown",
   "metadata": {},
   "source": [
    "prepare data according to the paper (see Methods)"
   ]
  },
  {
   "cell_type": "code",
   "execution_count": 3,
   "metadata": {},
   "outputs": [
    {
     "name": "stdout",
     "output_type": "stream",
     "text": [
      "(22818, 25) (22818, 21) (22814, 97)\n",
      "(22813, 25) (22813, 21) (22814, 97)\n",
      "(22813, 25) (22813, 21) (22814, 97)\n",
      "(22721, 25) (22721, 21) (22722, 97)\n",
      "(22721, 25) (22721, 21) (22722, 97)\n",
      "(22721, 25) (22721, 21) (22721, 70)\n"
     ]
    }
   ],
   "source": [
    "cs1_man = pd.read_csv(\"/home/npapado/Documents/data/celseq2/GSE78779_CS1_manual.txt\",\n",
    "                   sep = \"\\t\")\n",
    "cs2_man = pd.read_csv(\"/home/npapado/Documents/data/celseq2/GSE78779_CS2_manual.txt\",\n",
    "                   sep = \"\\t\")\n",
    "cs2_c1 = pd.read_csv(\"/home/npapado/Documents/data/celseq2/GSE78779_Expression_C1_96_cells.txt\",\n",
    "                   sep = \"\\t\")\n",
    "\n",
    "# remove misc. from the end of the manuals\n",
    "print(cs1_man.shape, cs2_man.shape, cs2_c1.shape)\n",
    "\n",
    "tails = [\"no_feature\", \"ambiguous\", \"too_low_aQual\", \"not_aligned\", \"alignment_not_unique\"]\n",
    "cs1m_spikes = [i for i, col in enumerate(cs1_man[\"#Sample:\"]) if col in tails]\n",
    "# print(cs1_man)\n",
    "# print(cs1m_spikes)\n",
    "cs1_man = cs1_man.drop(cs1m_spikes, 0)\n",
    "cs2m_spikes = [i for i, col in enumerate(cs2_man[\"#Sample:\"]) if col in tails]\n",
    "cs2_man = cs2_man.drop(cs2m_spikes, 0)\n",
    "\n",
    "print(cs1_man.shape, cs2_man.shape, cs2_c1.shape)\n",
    "\n",
    "# remove spike-ins\n",
    "print(cs1_man.shape, cs2_man.shape, cs2_c1.shape)\n",
    "\n",
    "cs1m_spikes = [i for i, col in enumerate(cs1_man[\"#Sample:\"]) if 'ERCC' in col]\n",
    "\n",
    "cs1_man = cs1_man.drop(cs1m_spikes, 0)\n",
    "cs2m_spikes = [i for i, col in enumerate(cs2_man[\"#Sample:\"]) if 'ERCC' in col]\n",
    "cs2_man = cs2_man.drop(cs2m_spikes, 0)\n",
    "cs2c_spikes = [i for i, col in enumerate(cs2_c1[\"#Sample:\"]) if 'ERCC' in col]\n",
    "cs2_c1 = cs2_c1.drop(cs2c_spikes, 0)\n",
    "\n",
    "print(cs1_man.shape, cs2_man.shape, cs2_c1.shape)\n",
    "\n",
    "# remove the cells we don't need and the row that tells us what to keep\n",
    "print(cs1_man.shape, cs2_man.shape, cs2_c1.shape)\n",
    "\n",
    "keep = [0]\n",
    "keep.extend(list(cs2_c1.iloc[0])[1:])\n",
    "# print(np.sum(keep))\n",
    "keep = np.array(keep, dtype=bool)\n",
    "\n",
    "delete = np.logical_not(keep)\n",
    "delete = cs2_c1.columns.values[delete]\n",
    "\n",
    "# print(delete.shape)\n",
    "cs2_c1 = cs2_c1.drop(delete, 1)\n",
    "# print(test.shape)\n",
    "cs2_c1 = cs2_c1.drop(0, 0)\n",
    "\n",
    "print(cs1_man.shape, cs2_man.shape, cs2_c1.shape)\n",
    "\n",
    "cs1_man = cs1_man.drop(\"#Sample:\", 1)\n",
    "cs2_man = cs2_man.drop(\"#Sample:\", 1)\n",
    "# cs2_c1 = cs2_c1.drop(\"#Sample:\", 1)"
   ]
  },
  {
   "cell_type": "code",
   "execution_count": 4,
   "metadata": {},
   "outputs": [
    {
     "name": "stdout",
     "output_type": "stream",
     "text": [
      "(24, 22721) (20, 22721) (70, 22721)\n"
     ]
    }
   ],
   "source": [
    "# now make numpy arrays and go from here\n",
    "cs1_man = np.array(cs1_man)\n",
    "cs1_man = cs1_man.T\n",
    "cs2_man = np.array(cs2_man)\n",
    "cs2_man = cs2_man.T\n",
    "cs2_c1 = np.array(cs2_c1)\n",
    "cs2_c1 = cs2_c1.T\n",
    "\n",
    "print(cs1_man.shape, cs2_man.shape, cs2_c1.shape)"
   ]
  },
  {
   "cell_type": "code",
   "execution_count": 5,
   "metadata": {},
   "outputs": [
    {
     "name": "stderr",
     "output_type": "stream",
     "text": [
      "/home/npapado/Documents/repos/notebooks/negbin_validation/negbin_val_functions.py:196: RuntimeWarning: divide by zero encountered in log\n",
      "  s2 = X * np.log(p)\n",
      "/home/npapado/Documents/repos/notebooks/negbin_validation/negbin_val_functions.py:196: RuntimeWarning: invalid value encountered in multiply\n",
      "  s2 = X * np.log(p)\n"
     ]
    }
   ],
   "source": [
    "# initial conditions\n",
    "X = cs2_man\n",
    "relevant = np.sum(X, axis=0) > 0\n",
    "X = X[:, relevant]\n",
    "G = X.shape[1]\n",
    "\n",
    "# scaling and normalization by scaling\n",
    "sum_all = np.sum(X, axis=1)\n",
    "scalings = sum_all / np.mean(sum_all)\n",
    "np.savetxt(\"celseq2/cs2_man_scalings.txt\", scalings)\n",
    "X = (X.transpose() / scalings).transpose()\n",
    "\n",
    "norm_pvals, mu_res, s2_res = fit_normals(G, X)\n",
    "pois_pvals, lambda_res, pois_success = fit_poissons(G, X)\n",
    "negbin_pvals, a_res, b_res, nb_success = fit_negbins(G, X)\n",
    "\n",
    "norm_all = [norm_pvals, mu_res, s2_res]\n",
    "pois_all = [pois_pvals, lambda_res, pois_success]\n",
    "negbin_all = [negbin_pvals, a_res, b_res, nb_success]\n",
    "\n",
    "save_all(\"celseq2\", \"cs2_man\", norm_all, pois_all, negbin_all)"
   ]
  },
  {
   "cell_type": "code",
   "execution_count": 13,
   "metadata": {},
   "outputs": [
    {
     "name": "stderr",
     "output_type": "stream",
     "text": [
      "/home/npapado/Documents/repos/notebooks/negbin_validation/negbin_val_functions.py:196: RuntimeWarning: divide by zero encountered in log\n",
      "  s2 = X * np.log(p)\n",
      "/home/npapado/Documents/repos/notebooks/negbin_validation/negbin_val_functions.py:196: RuntimeWarning: invalid value encountered in multiply\n",
      "  s2 = X * np.log(p)\n"
     ]
    }
   ],
   "source": [
    "# initial conditions\n",
    "X = cs2_c1\n",
    "relevant = np.sum(X, axis=0) > 0\n",
    "X = X[:, relevant]\n",
    "G = X.shape[1]\n",
    "\n",
    "# scaling and normalization by scaling\n",
    "sum_all = np.sum(X, axis=1)\n",
    "scalings = sum_all / np.mean(sum_all)\n",
    "np.savetxt(\"celseq2/cs2_c1_scalings.txt\", scalings)\n",
    "\n",
    "X = (X.transpose() / scalings).transpose()\n",
    "\n",
    "norm_pvals, mu_res, s2_res = fit_normals(G, X)\n",
    "pois_pvals, lambda_res, pois_success = fit_poissons(G, X)\n",
    "negbin_pvals, a_res, b_res, nb_success = fit_negbins(G, X)\n",
    "\n",
    "norm_all = [norm_pvals, mu_res, s2_res]\n",
    "pois_all = [pois_pvals, lambda_res, pois_success]\n",
    "negbin_all = [negbin_pvals, a_res, b_res, nb_success]\n",
    "\n",
    "save_all(\"celseq2\", \"cs2_c1\", norm_all, pois_all, negbin_all)"
   ]
  },
  {
   "cell_type": "code",
   "execution_count": 14,
   "metadata": {},
   "outputs": [
    {
     "data": {
      "text/plain": [
       "array([3772, 4641,  218])"
      ]
     },
     "execution_count": 14,
     "metadata": {},
     "output_type": "execute_result"
    }
   ],
   "source": [
    "sign_thresh=2\n",
    "res = {}\n",
    "pvals = np.matrix([negbin_pvals, pois_pvals, norm_pvals])\n",
    "diffs = np.apply_along_axis(differences, 0, pvals)\n",
    "\n",
    "best_negbin = (diffs[0] > sign_thresh) & (diffs[1] > sign_thresh)\n",
    "best_poisson = (diffs[0] < -sign_thresh) & (diffs[2] > sign_thresh)\n",
    "best_lognorm = (diffs[1] < -sign_thresh) & (diffs[2] < -sign_thresh)\n",
    "\n",
    "delta_BIC_above_cutoff = np.array([sum(best_negbin),\n",
    "                                   sum(best_poisson),\n",
    "                                   sum(best_lognorm)])\n",
    "delta_BIC_above_cutoff"
   ]
  },
  {
   "cell_type": "code",
   "execution_count": 7,
   "metadata": {},
   "outputs": [
    {
     "name": "stderr",
     "output_type": "stream",
     "text": [
      "/home/npapado/Documents/repos/notebooks/negbin_validation/negbin_val_functions.py:196: RuntimeWarning: divide by zero encountered in log\n",
      "  s2 = X * np.log(p)\n",
      "/home/npapado/Documents/repos/notebooks/negbin_validation/negbin_val_functions.py:196: RuntimeWarning: invalid value encountered in multiply\n",
      "  s2 = X * np.log(p)\n"
     ]
    }
   ],
   "source": [
    "# initial conditions\n",
    "X = cs1_man\n",
    "relevant = np.sum(X, axis=0) > 0\n",
    "X = X[:, relevant]\n",
    "G = X.shape[1]\n",
    "\n",
    "# scaling and normalization by scaling\n",
    "sum_all = np.sum(X, axis=1)\n",
    "scalings = sum_all / np.mean(sum_all)\n",
    "np.savetxt(\"celseq2/cs1_man_scalings.txt\", scalings)\n",
    "\n",
    "X = (X.transpose() / scalings).transpose()\n",
    "\n",
    "norm_pvals, mu_res, s2_res = fit_normals(G, X)\n",
    "pois_pvals, lambda_res, pois_success = fit_poissons(G, X)\n",
    "negbin_pvals, a_res, b_res, nb_success = fit_negbins(G, X)\n",
    "\n",
    "norm_all = [norm_pvals, mu_res, s2_res]\n",
    "pois_all = [pois_pvals, lambda_res, pois_success]\n",
    "negbin_all = [negbin_pvals, a_res, b_res, nb_success]\n",
    "\n",
    "save_all(\"celseq2\", \"cs1_man\", norm_all, pois_all, negbin_all)"
   ]
  },
  {
   "cell_type": "code",
   "execution_count": 8,
   "metadata": {},
   "outputs": [
    {
     "name": "stdout",
     "output_type": "stream",
     "text": [
      "1.0 0.5336399056664026\n"
     ]
    },
    {
     "data": {
      "text/plain": [
       "<matplotlib.legend.Legend at 0x7f197a927860>"
      ]
     },
     "execution_count": 8,
     "metadata": {},
     "output_type": "execute_result"
    },
    {
     "data": {
      "image/png": "[encoded data removed]",
      "text/plain": [
       "<matplotlib.figure.Figure at 0x7f197a9d4a90>"
      ]
     },
     "metadata": {},
     "output_type": "display_data"
    }
   ],
   "source": [
    "# scaling factors\n",
    "fig, ax = plt.subplots()\n",
    "sum1 = np.sum(cs1_man, axis=1)\n",
    "sum2 = np.sum(cs2_man, axis=1)\n",
    "sum3 = np.sum(cs2_c1, axis=1)\n",
    "sum_all = np.concatenate([sum1, sum2, sum3])\n",
    "\n",
    "scalings = sum_all / np.mean(sum_all)\n",
    "mu, std = sp.stats.norm.fit(scalings)\n",
    "\n",
    "all_n, all_bins, all_patches = ax.hist(scalings, bins=25, normed=True, alpha=0.7, color='black', label=\"all\")\n",
    "\n",
    "# Plot the PDF.\n",
    "xmin, xmax = ax.get_xlim()\n",
    "x = np.linspace(xmin, xmax, 100)\n",
    "p = sp.stats.norm.pdf(x, mu, std)\n",
    "ax.plot(x, p, 'k', linewidth=2)\n",
    "print(mu, std)\n",
    "\n",
    "ax.hist(sum1/np.mean(sum1), bins=all_bins, normed=True, alpha=0.2, label=\"cs1_man\")\n",
    "np.savetxt(\"celseq2/cs1_man_scalings.txt\", sum1/np.mean(sum1))\n",
    "ax.hist(sum2/np.mean(sum2), bins=all_bins, normed=True, alpha=0.2, label=\"cs2_man\")\n",
    "np.savetxt(\"celseq2/cs2_man_scalings.txt\", sum2/np.mean(sum2))\n",
    "ax.hist(sum3/np.mean(sum3), bins=all_bins, normed=True, alpha=0.2, label=\"cs2_c1\")\n",
    "np.savetxt(\"celseq2/cs2_c1_scalings.txt\", sum3/np.mean(sum3))\n",
    "ax.legend()"
   ]
  },
  {
   "cell_type": "code",
   "execution_count": 9,
   "metadata": {},
   "outputs": [
    {
     "name": "stdout",
     "output_type": "stream",
     "text": [
      "0.21666728635062923 3.0327561023676406\n",
      "1.789095392586372 1.4845323832101727\n"
     ]
    },
    {
     "data": {
      "text/plain": [
       "<matplotlib.legend.Legend at 0x7f197a7f1f98>"
      ]
     },
     "execution_count": 9,
     "metadata": {},
     "output_type": "execute_result"
    },
    {
     "data": {
      "image/png": "[encoded data removed]",
      "text/plain": [
       "<matplotlib.figure.Figure at 0x7f197a87f2b0>"
      ]
     },
     "metadata": {},
     "output_type": "display_data"
    }
   ],
   "source": [
    "a_res[a_res == 0] = 1e-6\n",
    "mu_a, std_a = norm.fit(np.log(a_res[nb_success]))\n",
    "mu_b, std_b = norm.fit(np.log(b_res[nb_success]))\n",
    "\n",
    "fig, ax = plt.subplots()\n",
    "ax.hist(np.log(a_res[nb_success]), label=\"a\", bins=50, alpha=0.5, normed=True, color=\"blue\")\n",
    "ax.hist(np.log(b_res[nb_success]), label=\"b\", bins=50, alpha=0.5, normed=True, color=\"green\")\n",
    "\n",
    "# Plot the PDF.\n",
    "xmin, xmax = ax.get_xlim()\n",
    "x = np.linspace(xmin, xmax, 100)\n",
    "pa = norm.pdf(x, mu_a, std_a)\n",
    "pb = norm.pdf(x, mu_b, std_b)\n",
    "ax.plot(x, pa, 'k', linewidth=2, label=\"a\", color=\"blue\")\n",
    "ax.plot(x, pb, 'k', linewidth=2, label=\"b\", color=\"green\")\n",
    "print(np.exp(mu_a), np.exp(std_a))\n",
    "print(np.exp(mu_b), np.exp(std_b))\n",
    "ax.legend(labels=[\"alpha fit\", \"beta fit\", \"alpha hist\", \"beta hist\"])"
   ]
  },
  {
   "cell_type": "code",
   "execution_count": 10,
   "metadata": {},
   "outputs": [],
   "source": [
    "X = cs2_c1\n",
    "relevant = np.sum(X, axis=0) > 0\n",
    "X = X[:, relevant]\n",
    "gene_means = np.mean(X, axis=0)\n",
    "np.savetxt(\"celseq2/cs2_c1_genes.txt\", gene_means)\n",
    "\n",
    "X = cs2_man\n",
    "relevant = np.sum(X, axis=0) > 0\n",
    "X = X[:, relevant]\n",
    "gene_means = np.mean(X, axis=0)\n",
    "np.savetxt(\"celseq2/cs2_man_genes.txt\", gene_means)\n",
    "\n",
    "X = cs1_man\n",
    "relevant = np.sum(X, axis=0) > 0\n",
    "X = X[:, relevant]\n",
    "gene_means = np.mean(X, axis=0)\n",
    "np.savetxt(\"celseq2/cs1_man_genes.txt\", gene_means)"
   ]
  }
 ],
 "metadata": {
  "anaconda-cloud": {},
  "kernelspec": {
   "display_name": "Python 3.6",
   "language": "python",
   "name": "py36"
  },
  "language_info": {
   "codemirror_mode": {
    "name": "ipython",
    "version": 3
   },
   "file_extension": ".py",
   "mimetype": "text/x-python",
   "name": "python",
   "nbconvert_exporter": "python",
   "pygments_lexer": "ipython3",
   "version": "3.6.4"
  }
 },
 "nbformat": 4,
 "nbformat_minor": 1
}
