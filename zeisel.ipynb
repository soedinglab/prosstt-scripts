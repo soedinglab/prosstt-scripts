{
 "cells": [
  {
   "cell_type": "markdown",
   "metadata": {},
   "source": [
    "Cell types in the mouse cortex and hippocampus revealed by single-cell RNA-seq\n",
    "\n",
    "_Zeisel et al., Science 2015_"
   ]
  },
  {
   "cell_type": "code",
   "execution_count": 1,
   "metadata": {},
   "outputs": [],
   "source": [
    "%matplotlib notebook\n",
    "import numpy as np\n",
    "import scipy as sp\n",
    "import pandas as pd\n",
    "import matplotlib.pyplot as plt\n",
    "\n",
    "import multiprocessing\n",
    "import warnings"
   ]
  },
  {
   "cell_type": "code",
   "execution_count": 2,
   "metadata": {},
   "outputs": [],
   "source": [
    "from negbin_val_functions import *"
   ]
  },
  {
   "cell_type": "code",
   "execution_count": 3,
   "metadata": {
    "scrolled": false
   },
   "outputs": [],
   "source": [
    "warnings.simplefilter('ignore')\n",
    "raw = pd.read_csv(\"/home/npapado/Documents/data/mousecort/expression_mRNA_17-Aug-2014.txt\",\n",
    "                   sep = \"\\t\", header=None)\n",
    "# apparently this includes only the 3005 cells used for clustering\n",
    "# but the cells excluded were either low-quality or non-informative"
   ]
  },
  {
   "cell_type": "code",
   "execution_count": 4,
   "metadata": {},
   "outputs": [],
   "source": [
    "metadata = raw[0:11]\n",
    "counts = raw[11:]"
   ]
  },
  {
   "cell_type": "markdown",
   "metadata": {},
   "source": [
    "read metadata"
   ]
  },
  {
   "cell_type": "code",
   "execution_count": 5,
   "metadata": {},
   "outputs": [],
   "source": [
    "tissue = np.array(metadata.loc[0][2:], dtype=np.str_)\n",
    "cell_group = np.array(metadata.loc[1][2:], dtype=np.int_)\n",
    "total_mrna = np.array(metadata.loc[2][2:], dtype=np.int_)\n",
    "well = np.array(metadata.loc[3][2:], dtype=np.int_)\n",
    "sex = np.array(metadata.loc[4][2:], dtype=np.int_)\n",
    "age = np.array(metadata.loc[5][2:], dtype=np.int_)\n",
    "diameter = np.array(metadata.loc[6][2:], dtype=np.float)\n",
    "cell_id = np.array(metadata.loc[7][2:], dtype=np.str_)\n",
    "level1_class = np.array(metadata.loc[8][2:], dtype=np.str_)\n",
    "level2_class = np.array(metadata.loc[9][2:], dtype=np.str_)"
   ]
  },
  {
   "cell_type": "markdown",
   "metadata": {},
   "source": [
    "format data correctly"
   ]
  },
  {
   "cell_type": "code",
   "execution_count": 6,
   "metadata": {},
   "outputs": [],
   "source": [
    "gene_names = np.array(counts[0])\n",
    "gene_group = np.array(counts[1])\n",
    "X = np.array(counts.loc[:, 2:], dtype = np.int_)"
   ]
  },
  {
   "cell_type": "code",
   "execution_count": 7,
   "metadata": {},
   "outputs": [
    {
     "name": "stdout",
     "output_type": "stream",
     "text": [
      "(19972, 3005)\n",
      "(19972,)\n",
      "15251\n",
      "(3005, 15251)\n"
     ]
    }
   ],
   "source": [
    "# remove genes with less than a combined 25 mRNA molecules\n",
    "print(X.shape)\n",
    "combmRNA = np.sum(X, axis=1)\n",
    "cellmRNA = np.sum(X, axis=0)\n",
    "print(combmRNA.shape)\n",
    "keep = [i for i, s in enumerate(combmRNA) if s >= 25]\n",
    "print(len(keep))\n",
    "X = X[keep]\n",
    "X = X.T\n",
    "print(X.shape)"
   ]
  },
  {
   "cell_type": "markdown",
   "metadata": {},
   "source": [
    "isolate the subgroups and perform analysis for all of them independently"
   ]
  },
  {
   "cell_type": "code",
   "execution_count": 8,
   "metadata": {},
   "outputs": [],
   "source": [
    "def run_subgroup(i):\n",
    "    group = groups[i]\n",
    "    print(i , \"/\", len(groups)-1, \",\", group)\n",
    "    keep = np.where(level2_class == group)[0]\n",
    "    combmRNA = np.sum(X[keep,:], axis=0)\n",
    "    genes = (combmRNA>0)\n",
    "    G = sum(genes)\n",
    "\n",
    "    norm_pvals, mu_res, s2_res = fit_normals(G, X[keep][:, genes])\n",
    "    pois_pvals, lambda_res, pois_success = fit_poissons(G, X[keep][:, genes])\n",
    "    negbin_pvals, a_res, b_res, nb_success = fit_negbins(G, X[keep][:, genes])\n",
    "\n",
    "    norm_all = [norm_pvals, mu_res, s2_res]\n",
    "    pois_all = [pois_pvals, lambda_res, pois_success]\n",
    "    negbin_all = [negbin_pvals, a_res, b_res, nb_success]\n",
    "\n",
    "    save_all(\"zeisel\", group, norm_all, pois_all, negbin_all)"
   ]
  },
  {
   "cell_type": "code",
   "execution_count": null,
   "metadata": {},
   "outputs": [],
   "source": [
    "groups = np.unique(level2_class)\n",
    "groups = np.delete(groups, np.where(groups == \"(none)\"))"
   ]
  },
  {
   "cell_type": "code",
   "execution_count": null,
   "metadata": {},
   "outputs": [
    {
     "name": "stdout",
     "output_type": "stream",
     "text": [
      "2 / 46 , CA1Pyr1\n",
      "1 / 46 , Astro2\n",
      "3 / 46 , CA1Pyr2\n",
      "0 / 46 , Astro1\n",
      "4 / 46 , CA1PyrInt\n",
      "5 / 46 , CA2Pyr2\n",
      "6 / 46 , Choroid\n",
      "8 / 46 , Epend\n",
      "16 / 46 , Int16\n",
      "7 / 46 , ClauPyr\n",
      "9 / 46 , Int1\n",
      "14 / 46 , Int14\n",
      "15 / 46 , Int15\n",
      "17 / 46 , Int2\n",
      "18 / 46 , Int3\n",
      "19 / 46 , Int4\n",
      "10 / 46 , Int10\n",
      "13 / 46 , Int13\n",
      "11 / 46 , Int11\n",
      "12 / 46 , Int12\n",
      "20 / 46 , Int5\n",
      "21 / 46 , Int6\n",
      "22 / 46 , Int7\n",
      "23 / 46 , Int8\n",
      "24 / 46 , Int9\n",
      "25 / 46 , Mgl1\n",
      "26 / 46 , Mgl2\n",
      "27 / 46 , Oligo1\n",
      "28 / 46 , Oligo2\n",
      "29 / 46 , Oligo3\n",
      "30 / 46 , Oligo4\n",
      "31 / 46 , Oligo5\n",
      "32 / 46 , Oligo6\n",
      "33 / 46 , Peric\n",
      "34 / 46 , Pvm1\n",
      "35 / 46 , Pvm2\n",
      "36 / 46 , S1PyrDL\n",
      "37 / 46 , S1PyrL23\n",
      "38 / 46 , S1PyrL4\n",
      "39 / 46 , S1PyrL5\n",
      "40 / 46 , S1PyrL5a\n",
      "41 / 46 , S1PyrL6\n"
     ]
    }
   ],
   "source": [
    "warnings.simplefilter('ignore')\n",
    "pool = multiprocessing.Pool(20)\n",
    "maps = pool.map(run_subgroup, range(0, len(groups)))"
   ]
  },
  {
   "cell_type": "code",
   "execution_count": null,
   "metadata": {
    "scrolled": true
   },
   "outputs": [],
   "source": [
    "from scipy.stats import norm\n",
    "%matplotlib inline\n",
    "\n",
    "for i in range(len(groups)):\n",
    "    fig, ax = plt.subplots()\n",
    "    group = groups[i]\n",
    "    keep = np.where(level2_class == group)[0]\n",
    "    sum1 = np.sum(X[keep, :], axis=1)\n",
    "    scalings = sum1 / np.mean(sum1)\n",
    "    s, mu, std = lognorm.fit(scalings)\n",
    "    \n",
    "    ax.hist(scalings, bins=25, normed=True, alpha=0.6, color='g')\n",
    "    np.savetxt(\"zeisel/\" + group + \"_scalings.txt\", scalings)\n",
    "\n",
    "    # Plot the PDF.\n",
    "    x = np.linspace(-1, 3, 100)\n",
    "    p = lognorm.pdf(x, s, mu, std)\n",
    "    ax.plot(x, p, 'k', linewidth=2)\n",
    "    plt.savefig(\"zeisel/\" + group + \"_scalings.png\", bbox_inches='tight')\n",
    "    plt.close()\n",
    "    print(group, mu, std)"
   ]
  },
  {
   "cell_type": "code",
   "execution_count": null,
   "metadata": {},
   "outputs": [],
   "source": [
    "for group in groups:\n",
    "    keep = np.where(level2_class == group)[0]\n",
    "    gene_means = np.mean(X[keep, :], axis=0)\n",
    "    np.savetxt(\"zeisel/\" + group + \"_genes.txt\", gene_means)"
   ]
  }
 ],
 "metadata": {
  "anaconda-cloud": {},
  "kernelspec": {
   "display_name": "Python 3",
   "language": "python",
   "name": "python3"
  },
  "language_info": {
   "codemirror_mode": {
    "name": "ipython",
    "version": 3
   },
   "file_extension": ".py",
   "mimetype": "text/x-python",
   "name": "python",
   "nbconvert_exporter": "python",
   "pygments_lexer": "ipython3",
   "version": "3.6.4"
  }
 },
 "nbformat": 4,
 "nbformat_minor": 1
}
