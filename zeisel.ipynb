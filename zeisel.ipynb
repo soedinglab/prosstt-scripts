{
 "cells": [
  {
   "cell_type": "markdown",
   "metadata": {},
   "source": [
    "Cell types in the mouse cortex and hippocampus revealed by single-cell RNA-seq\n",
    "\n",
    "_Zeisel et al., Science 2015_"
   ]
  },
  {
   "cell_type": "code",
   "execution_count": 1,
   "metadata": {},
   "outputs": [],
   "source": [
    "%matplotlib inline\n",
    "import numpy as np\n",
    "import scipy as sp\n",
    "import pandas as pd\n",
    "import matplotlib.pyplot as plt\n",
    "\n",
    "import multiprocessing\n",
    "import warnings"
   ]
  },
  {
   "cell_type": "code",
   "execution_count": 2,
   "metadata": {},
   "outputs": [],
   "source": [
    "from negbin_val_functions import *\n",
    "from ab_fitting import *"
   ]
  },
  {
   "cell_type": "code",
   "execution_count": 3,
   "metadata": {
    "scrolled": false
   },
   "outputs": [],
   "source": [
    "warnings.simplefilter('ignore')\n",
    "raw = pd.read_csv(\"/home/npapado/Documents/data/mousecort/expression_mRNA_17-Aug-2014.txt\",\n",
    "                   sep = \"\\t\", header=None)\n",
    "# apparently this includes only the 3005 cells used for clustering\n",
    "# but the cells excluded were either low-quality or non-informative"
   ]
  },
  {
   "cell_type": "code",
   "execution_count": 4,
   "metadata": {},
   "outputs": [],
   "source": [
    "metadata = raw[0:11]\n",
    "counts = raw[11:]"
   ]
  },
  {
   "cell_type": "markdown",
   "metadata": {},
   "source": [
    "read metadata"
   ]
  },
  {
   "cell_type": "code",
   "execution_count": 5,
   "metadata": {},
   "outputs": [],
   "source": [
    "tissue = np.array(metadata.loc[0][2:], dtype=np.str_)\n",
    "cell_group = np.array(metadata.loc[1][2:], dtype=np.int_)\n",
    "total_mrna = np.array(metadata.loc[2][2:], dtype=np.int_)\n",
    "well = np.array(metadata.loc[3][2:], dtype=np.int_)\n",
    "sex = np.array(metadata.loc[4][2:], dtype=np.int_)\n",
    "age = np.array(metadata.loc[5][2:], dtype=np.int_)\n",
    "diameter = np.array(metadata.loc[6][2:], dtype=np.float)\n",
    "cell_id = np.array(metadata.loc[7][2:], dtype=np.str_)\n",
    "level1_class = np.array(metadata.loc[8][2:], dtype=np.str_)\n",
    "level2_class = np.array(metadata.loc[9][2:], dtype=np.str_)"
   ]
  },
  {
   "cell_type": "markdown",
   "metadata": {},
   "source": [
    "format data correctly"
   ]
  },
  {
   "cell_type": "code",
   "execution_count": 6,
   "metadata": {},
   "outputs": [],
   "source": [
    "gene_names = np.array(counts[0])\n",
    "gene_group = np.array(counts[1])\n",
    "X = np.array(counts.loc[:, 2:], dtype = np.int_)"
   ]
  },
  {
   "cell_type": "code",
   "execution_count": 7,
   "metadata": {},
   "outputs": [
    {
     "name": "stdout",
     "output_type": "stream",
     "text": [
      "(19972, 3005)\n",
      "(19972,)\n",
      "15251\n",
      "(3005, 15251)\n"
     ]
    }
   ],
   "source": [
    "# remove genes with less than a combined 25 mRNA molecules\n",
    "print(X.shape)\n",
    "combmRNA = np.sum(X, axis=1)\n",
    "cellmRNA = np.sum(X, axis=0)\n",
    "print(combmRNA.shape)\n",
    "keep = [i for i, s in enumerate(combmRNA) if s >= 25]\n",
    "print(len(keep))\n",
    "X = X[keep]\n",
    "X = X.T\n",
    "print(X.shape)"
   ]
  },
  {
   "cell_type": "markdown",
   "metadata": {},
   "source": [
    "isolate the subgroups and fit Negative Binomials, Gaussians and Poisson for every gene in each group separately"
   ]
  },
  {
   "cell_type": "code",
   "execution_count": 8,
   "metadata": {},
   "outputs": [],
   "source": [
    "def run_subgroup(i):\n",
    "    group = groups[i]\n",
    "    print(i , \"/\", len(groups)-1, \",\", group)\n",
    "    keep = np.where(level2_class == group)[0]\n",
    "    combmRNA = np.sum(X[keep,:], axis=0)\n",
    "    genes = (combmRNA > 20)\n",
    "    G = sum(genes)\n",
    "    \n",
    "    sum_all = np.sum(X[keep], axis=1)\n",
    "    scalings = sum_all / np.mean(sum_all)\n",
    "\n",
    "    X[keep] = (X[keep].transpose() / scalings).transpose()\n",
    "\n",
    "    norm_pvals, mu_res, s2_res = fit_normals(G, X[keep][:, genes], scalings)\n",
    "    pois_pvals, lambda_res, pois_success = fit_poissons(G, X[keep][:, genes], scalings)\n",
    "    negbin_pvals, p_res, r_res, nb_success = fit_negbins_pr(G, X[keep][:, genes], scalings)\n",
    "\n",
    "    norm_all = [norm_pvals, mu_res, s2_res]\n",
    "    pois_all = [pois_pvals, lambda_res, pois_success]\n",
    "    negbin_all = [negbin_pvals, p_res, r_res, nb_success]\n",
    "\n",
    "    save_all(\"zeisel\", group, norm_all, pois_all, negbin_all)\n",
    "    np.savetxt(\"zeisel\" + \"/\" + group + \"_negbin_which.txt\", genes)"
   ]
  },
  {
   "cell_type": "code",
   "execution_count": 9,
   "metadata": {},
   "outputs": [],
   "source": [
    "groups = np.unique(level2_class)\n",
    "groups = np.delete(groups, np.where(groups == \"(none)\"))"
   ]
  },
  {
   "cell_type": "code",
   "execution_count": 27,
   "metadata": {},
   "outputs": [
    {
     "name": "stdout",
     "output_type": "stream",
     "text": [
      "5 / 46 , CA2Pyr2\n",
      "6 / 46 , Choroid\n",
      "4 / 46 , CA1PyrInt\n",
      "18 / 46 , Int3\n",
      "17 / 46 , Int2\n",
      "7 / 46 , ClauPyr\n",
      "9 / 46 , Int1\n",
      "8 / 46 , Epend\n",
      "12 / 46 , Int12\n",
      "15 / 46 , Int15\n",
      "14 / 46 , Int14\n",
      "13 / 46 , Int13\n",
      "11 / 46 , Int11\n",
      "10 / 46 , Int10\n",
      "16 / 46 , Int16\n",
      "19 / 46 , Int4\n",
      "1 / 46 , Astro2\n",
      "2 / 46 , CA1Pyr1\n",
      "3 / 46 , CA1Pyr2\n",
      "0 / 46 , Astro1\n",
      "20 / 46 , Int5\n",
      "21 / 46 , Int6\n",
      "22 / 46 , Int7\n",
      "23 / 46 , Int8\n",
      "24 / 46 , Int9\n",
      "25 / 46 , Mgl1\n",
      "26 / 46 , Mgl2\n",
      "27 / 46 , Oligo1\n",
      "28 / 46 , Oligo2\n",
      "29 / 46 , Oligo3\n",
      "30 / 46 , Oligo4\n",
      "31 / 46 , Oligo5\n",
      "32 / 46 , Oligo6\n",
      "33 / 46 , Peric\n",
      "34 / 46 , Pvm1\n",
      "35 / 46 , Pvm2\n",
      "36 / 46 , S1PyrDL\n",
      "37 / 46 , S1PyrL23\n",
      "38 / 46 , S1PyrL4\n",
      "39 / 46 , S1PyrL5\n",
      "40 / 46 , S1PyrL5a\n",
      "41 / 46 , S1PyrL6\n",
      "42 / 46 , S1PyrL6b\n",
      "43 / 46 , SubPyr\n",
      "44 / 46 , Vend1\n",
      "45 / 46 , Vend2\n",
      "46 / 46 , Vsmc\n"
     ]
    },
    {
     "name": "stderr",
     "output_type": "stream",
     "text": [
      "Process ForkPoolWorker-71:\n",
      "Process ForkPoolWorker-65:\n",
      "Process ForkPoolWorker-75:\n",
      "Process ForkPoolWorker-80:\n",
      "Process ForkPoolWorker-73:\n",
      "Process ForkPoolWorker-64:\n",
      "Process ForkPoolWorker-69:\n",
      "Process ForkPoolWorker-77:\n",
      "Process ForkPoolWorker-74:\n",
      "Process ForkPoolWorker-68:\n"
     ]
    }
   ],
   "source": [
    "warnings.simplefilter('ignore')\n",
    "pool = multiprocessing.Pool(20)\n",
    "maps = pool.map(run_subgroup, range(0, len(groups)))"
   ]
  },
  {
   "cell_type": "markdown",
   "metadata": {},
   "source": [
    "read the fitted $p_g, r_g$ for each gene. With them, we can derive the real $\\mu_g, \\sigma_g^2$ for each gene $g$. Since we have 47 different groups, we can then learn $\\alpha_g$, $\\beta_g$ values for each gene."
   ]
  },
  {
   "cell_type": "code",
   "execution_count": 10,
   "metadata": {},
   "outputs": [],
   "source": [
    "G = X.shape[1]\n",
    "p = list(np.zeros(len(groups)))\n",
    "r = list(np.zeros(len(groups)))\n",
    "success = list(np.zeros(len(groups)))\n",
    "which = np.zeros((len(groups), G))\n",
    "\n",
    "mu = list(np.zeros(len(groups)))\n",
    "sigma = list(np.zeros(len(groups)))\n",
    "\n",
    "for i in range(len(groups)):\n",
    "#     print(i , \"/\", len(groups)-1, \",\", groups[i])\n",
    "    group = groups[i]\n",
    "    p[i], r[i], success[i], which[i] = read_negbin_params(\"zeisel\", group)\n",
    "    mu[i] = (p[i] * r[i] / (1 - p[i]))\n",
    "    sigma[i] = (p[i] * r[i] / (1 - p[i])**2)"
   ]
  },
  {
   "cell_type": "code",
   "execution_count": 11,
   "metadata": {},
   "outputs": [],
   "source": [
    "def fit_gene(g):\n",
    "    theta = [0.3, 3]\n",
    "    cells = np.where(which[:, g])[0]\n",
    "    m = np.zeros(len(cells))\n",
    "    s = np.zeros(len(cells))\n",
    "    for i, c in enumerate(cells):\n",
    "        genes = np.argwhere(which[c]).T[0]\n",
    "        g_loc = np.argwhere(genes == g)[0, 0]\n",
    "        m[i] = mu[c][g_loc]\n",
    "        s[i] = sigma[c][g_loc]\n",
    "    x = [m, s]\n",
    "    bnds = ((0, None), (0, None))\n",
    "    opt = sp.optimize.minimize(func, theta, args=(\n",
    "        x), method=\"L-BFGS-B\", bounds=bnds)\n",
    "    return opt.x, opt.success"
   ]
  },
  {
   "cell_type": "code",
   "execution_count": 12,
   "metadata": {},
   "outputs": [],
   "source": [
    "pool = multiprocessing.Pool(20)\n",
    "result = np.array(pool.map(fit_gene, range(G)))\n",
    "gene_fit = np.array(result[:, 1], dtype=bool)\n",
    "ab = np.array([pair for pair in result[:, 0]])"
   ]
  },
  {
   "cell_type": "code",
   "execution_count": 20,
   "metadata": {},
   "outputs": [],
   "source": [
    "alpha = ab[:, 0]\n",
    "beta = ab[:, 1]\n",
    "alpha[alpha < 0] = 0\n",
    "beta[beta < 0] = 0\n",
    "\n",
    "valid_a = ((alpha != 0.3) & (alpha > 1e-5))\n",
    "valid_b = ((beta != 3) & (beta > 1e-5))"
   ]
  },
  {
   "cell_type": "code",
   "execution_count": 24,
   "metadata": {},
   "outputs": [
    {
     "data": {
      "image/png": "[encoded data removed]",
      "text/plain": [
       "<Figure size 432x288 with 1 Axes>"
      ]
     },
     "metadata": {},
     "output_type": "display_data"
    }
   ],
   "source": [
    "fig, ax = plt.subplots()\n",
    "x = np.linspace(-10, 7, 100)\n",
    "a_mean, a_var = hist_and_fit(np.log(alpha[valid_a]), x, ax, \"alphas\")"
   ]
  },
  {
   "cell_type": "code",
   "execution_count": 25,
   "metadata": {},
   "outputs": [
    {
     "data": {
      "image/png": "[encoded data removed]",
      "text/plain": [
       "<Figure size 432x288 with 1 Axes>"
      ]
     },
     "metadata": {},
     "output_type": "display_data"
    }
   ],
   "source": [
    "fig, ax = plt.subplots()\n",
    "x = np.linspace(-3, 3, 100)\n",
    "b_mean, b_var = hist_and_fit(np.log(beta[valid_b]), x, ax, \"betas\")"
   ]
  },
  {
   "cell_type": "code",
   "execution_count": 26,
   "metadata": {},
   "outputs": [
    {
     "name": "stdout",
     "output_type": "stream",
     "text": [
      "alpha fits: 0.4187345948570119 6.144799833530924\n",
      "beta fits: 1.5642979377518604 1.9400873142273332\n"
     ]
    }
   ],
   "source": [
    "print(\"alpha fits:\", np.exp(a_mean), np.exp(a_var))\n",
    "print(\"beta fits:\", np.exp(b_mean), np.exp(b_var))"
   ]
  },
  {
   "cell_type": "code",
   "execution_count": 27,
   "metadata": {
    "scrolled": false
   },
   "outputs": [
    {
     "name": "stdout",
     "output_type": "stream",
     "text": [
      "Astro1 0.07145839195717862 0.8302324018796602\n",
      "Astro2 0.0408172752023447 0.8716918291963388\n",
      "CA1Pyr1 0.21904078414019798 0.6596966713537449\n",
      "CA1Pyr2 -0.07090989430686938 0.9929237492732238\n",
      "CA1PyrInt -0.09449795235198816 1.056635029543678\n",
      "CA2Pyr2 -25.62483900820309 26.622754508651617\n",
      "Choroid 0.32929519121516854 0.3509195425444477\n",
      "ClauPyr 0.7087009116926798 0.05749714459470395\n",
      "Epend 0.26194587754714366 0.4438535985786576\n",
      "Int1 0.03443900566021244 0.8347423230807867\n",
      "Int10 0.40054902198754816 0.38028046087378065\n",
      "Int11 0.5197969543147207 0.06045016576008223\n",
      "Int12 0.20027069869692635 0.7282647350838771\n",
      "Int13 0.05201663233985404 0.8474202146897811\n",
      "Int14 0.17529365276169273 0.7019890950927641\n",
      "Int15 -22.189226059333294 23.186748401568913\n",
      "Int16 0.17784788506629184 0.6694227843854472\n",
      "Int2 -2.009765431029611 2.9775709648790873\n",
      "Int3 0.5130116957022972 0.34092366513512773\n",
      "Int4 0.3396466000765891 0.5439609980270353\n",
      "Int5 0.2792118286456809 0.5194208508436742\n",
      "Int6 -0.1402707115307305 1.0591352222158936\n",
      "Int7 0.2758598108729319 0.5289994073619546\n",
      "Int8 -1.1421058994005333 2.1090168506863343\n",
      "Int9 0.30254712445988763 0.5996952496637196\n",
      "Mgl1 0.26283809304808037 0.6493318252874247\n",
      "Mgl2 0.5338739569854251 0.3249318991290904\n",
      "Oligo1 0.0694140066567337 0.7789168909433793\n",
      "Oligo2 0.04746150066259974 0.8404789392917476\n",
      "Oligo3 0.2619533852711675 0.6257357761732474\n",
      "Oligo4 0.2009362609052895 0.7242453372341617\n",
      "Oligo5 0.12921986935242055 0.7580054437578954\n",
      "Oligo6 0.14436760327617754 0.7369331021258188\n",
      "Peric 0.3499384148057346 0.5380651379174686\n",
      "Pvm1 0.06479655293435965 0.853517241180721\n",
      "Pvm2 0.43614421077048926 0.4228992425404372\n",
      "S1PyrDL -0.22199154834008988 1.170610904036196\n",
      "S1PyrL23 0.1767790071612637 0.7482138935136289\n",
      "S1PyrL4 0.17917010286999757 0.7456051710818898\n",
      "S1PyrL5 -1.684924262709639 2.6595824969186754\n",
      "S1PyrL5a 0.1691107229424091 0.7533871047174778\n",
      "S1PyrL6 0.0536190640058914 0.8922238563406053\n",
      "S1PyrL6b 0.18766434014058458 0.6645458008770591\n",
      "SubPyr 0.19549532489807175 0.7370197739721875\n",
      "Vend1 0.3464242269203213 0.4894494705652797\n",
      "Vend2 0.45654654741081513 0.3271606126003203\n",
      "Vsmc 0.4402428304771292 0.358927436319846\n"
     ]
    }
   ],
   "source": [
    "from scipy.stats import norm\n",
    "%matplotlib inline\n",
    "\n",
    "for i in range(len(groups)):\n",
    "    fig, ax = plt.subplots()\n",
    "    group = groups[i]\n",
    "    keep = np.where(level2_class == group)[0]\n",
    "    sum1 = np.sum(X[keep, :], axis=1)\n",
    "    scalings = sum1 / np.mean(sum1)\n",
    "    s, mu, std = lognorm.fit(scalings)\n",
    "    \n",
    "    ax.hist(scalings, bins=25, normed=True, alpha=0.6, color='g')\n",
    "    np.savetxt(\"zeisel/\" + group + \"_scalings.txt\", scalings)\n",
    "\n",
    "    # Plot the PDF.\n",
    "    x = np.linspace(-1, 3, 100)\n",
    "    p = lognorm.pdf(x, s, mu, std)\n",
    "    ax.plot(x, p, 'k', linewidth=2)\n",
    "    plt.savefig(\"zeisel/\" + group + \"_scalings.png\", bbox_inches='tight')\n",
    "    plt.close()\n",
    "    print(group, mu, std)"
   ]
  },
  {
   "cell_type": "code",
   "execution_count": 28,
   "metadata": {},
   "outputs": [],
   "source": [
    "for group in groups:\n",
    "    keep = np.where(level2_class == group)[0]\n",
    "    gene_means = np.mean(X[keep, :], axis=0)\n",
    "    np.savetxt(\"zeisel/\" + group + \"_genes.txt\", gene_means)"
   ]
  }
 ],
 "metadata": {
  "anaconda-cloud": {},
  "kernelspec": {
   "display_name": "Python 3",
   "language": "python",
   "name": "python3"
  },
  "language_info": {
   "codemirror_mode": {
    "name": "ipython",
    "version": 3
   },
   "file_extension": ".py",
   "mimetype": "text/x-python",
   "name": "python",
   "nbconvert_exporter": "python",
   "pygments_lexer": "ipython3",
   "version": "3.6.4"
  }
 },
 "nbformat": 4,
 "nbformat_minor": 1
}
